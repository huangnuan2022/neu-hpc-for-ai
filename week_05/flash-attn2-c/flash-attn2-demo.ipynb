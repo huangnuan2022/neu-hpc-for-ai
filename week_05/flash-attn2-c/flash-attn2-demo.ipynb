{
 "cells": [
  {
   "cell_type": "markdown",
   "id": "487ff00d",
   "metadata": {},
   "source": [
    "# flash-attn2-c Demo"
   ]
  },
  {
   "cell_type": "code",
   "execution_count": null,
   "id": "2dc57795",
   "metadata": {},
   "outputs": [],
   "source": [
    "%%bash\n",
    "set -e\n",
    "make -C flash-attn2-c\n",
    "./flash-attn2-c/bin/flash_attn2_seq 512 64 128 128 42\n"
   ]
  }
 ],
 "metadata": {},
 "nbformat": 4,
 "nbformat_minor": 5
}
